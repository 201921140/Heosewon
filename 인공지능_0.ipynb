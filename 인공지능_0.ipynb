{
  "nbformat": 4,
  "nbformat_minor": 0,
  "metadata": {
    "colab": {
      "provenance": [],
      "authorship_tag": "ABX9TyOIcLOqZ6pmQV1O/5FR0Jwz",
      "include_colab_link": true
    },
    "kernelspec": {
      "name": "python3",
      "display_name": "Python 3"
    },
    "language_info": {
      "name": "python"
    }
  },
  "cells": [
    {
      "cell_type": "markdown",
      "metadata": {
        "id": "view-in-github",
        "colab_type": "text"
      },
      "source": [
        "<a href=\"https://colab.research.google.com/github/201921140/Heosewon/blob/main/%EC%9D%B8%EA%B3%B5%EC%A7%80%EB%8A%A5_0.ipynb\" target=\"_parent\"><img src=\"https://colab.research.google.com/assets/colab-badge.svg\" alt=\"Open In Colab\"/></a>"
      ]
    },
    {
      "cell_type": "code",
      "source": [
        "for num in [1,2,3,4,5,6,7,8,9] :\n",
        "  print(\"--\", num, \"단---\")\n",
        "  print(\"1X\", num, \"=\", 1*num)\n",
        "  print(\"2X\", num, \"=\", 2*num)\n",
        "  print(\"3X\", num, \"=\", 3*num)\n",
        "  print(\"4X\", num, \"=\", 4*num)\n",
        "  print(\"5X\", num, \"=\", 5*num)\n",
        "  print(\"6X\", num, \"=\", 6*num)\n",
        "  print(\"7X\", num, \"=\", 7*num)\n",
        "  print(\"8X\", num, \"=\", 8*num)\n",
        "  print(\"9X\", num, \"=\", 9*num)"
      ],
      "metadata": {
        "colab": {
          "base_uri": "https://localhost:8080/"
        },
        "id": "5gRLJDDCmkoJ",
        "outputId": "b1ffd891-2d38-433e-eb77-2187fccbfb5e"
      },
      "execution_count": 57,
      "outputs": [
        {
          "output_type": "stream",
          "name": "stdout",
          "text": [
            "-- 1 단---\n",
            "1X 1 = 1\n",
            "2X 1 = 2\n",
            "3X 1 = 3\n",
            "4X 1 = 4\n",
            "5X 1 = 5\n",
            "6X 1 = 6\n",
            "7X 1 = 7\n",
            "8X 1 = 8\n",
            "9X 1 = 9\n",
            "-- 2 단---\n",
            "1X 2 = 2\n",
            "2X 2 = 4\n",
            "3X 2 = 6\n",
            "4X 2 = 8\n",
            "5X 2 = 10\n",
            "6X 2 = 12\n",
            "7X 2 = 14\n",
            "8X 2 = 16\n",
            "9X 2 = 18\n",
            "-- 3 단---\n",
            "1X 3 = 3\n",
            "2X 3 = 6\n",
            "3X 3 = 9\n",
            "4X 3 = 12\n",
            "5X 3 = 15\n",
            "6X 3 = 18\n",
            "7X 3 = 21\n",
            "8X 3 = 24\n",
            "9X 3 = 27\n",
            "-- 4 단---\n",
            "1X 4 = 4\n",
            "2X 4 = 8\n",
            "3X 4 = 12\n",
            "4X 4 = 16\n",
            "5X 4 = 20\n",
            "6X 4 = 24\n",
            "7X 4 = 28\n",
            "8X 4 = 32\n",
            "9X 4 = 36\n",
            "-- 5 단---\n",
            "1X 5 = 5\n",
            "2X 5 = 10\n",
            "3X 5 = 15\n",
            "4X 5 = 20\n",
            "5X 5 = 25\n",
            "6X 5 = 30\n",
            "7X 5 = 35\n",
            "8X 5 = 40\n",
            "9X 5 = 45\n",
            "-- 6 단---\n",
            "1X 6 = 6\n",
            "2X 6 = 12\n",
            "3X 6 = 18\n",
            "4X 6 = 24\n",
            "5X 6 = 30\n",
            "6X 6 = 36\n",
            "7X 6 = 42\n",
            "8X 6 = 48\n",
            "9X 6 = 54\n",
            "-- 7 단---\n",
            "1X 7 = 7\n",
            "2X 7 = 14\n",
            "3X 7 = 21\n",
            "4X 7 = 28\n",
            "5X 7 = 35\n",
            "6X 7 = 42\n",
            "7X 7 = 49\n",
            "8X 7 = 56\n",
            "9X 7 = 63\n",
            "-- 8 단---\n",
            "1X 8 = 8\n",
            "2X 8 = 16\n",
            "3X 8 = 24\n",
            "4X 8 = 32\n",
            "5X 8 = 40\n",
            "6X 8 = 48\n",
            "7X 8 = 56\n",
            "8X 8 = 64\n",
            "9X 8 = 72\n",
            "-- 9 단---\n",
            "1X 9 = 9\n",
            "2X 9 = 18\n",
            "3X 9 = 27\n",
            "4X 9 = 36\n",
            "5X 9 = 45\n",
            "6X 9 = 54\n",
            "7X 9 = 63\n",
            "8X 9 = 72\n",
            "9X 9 = 81\n"
          ]
        }
      ]
    },
    {
      "cell_type": "code",
      "source": [
        "if exam => 90 :\n",
        "print(\"당신의 성적은 90점 이상이므로 점수는 A입니다.\")\n",
        "else if 80 < exam < 90 :\n",
        "  print (\"당신의 성적은 \", exam, \"이므로 점수는 B입니다.\")"
      ],
      "metadata": {
        "colab": {
          "base_uri": "https://localhost:8080/",
          "height": 137
        },
        "id": "RQqyFFvapz-N",
        "outputId": "1146523e-181f-4198-f446-1b21031b0f3d"
      },
      "execution_count": 30,
      "outputs": [
        {
          "output_type": "error",
          "ename": "SyntaxError",
          "evalue": "ignored",
          "traceback": [
            "\u001b[0;36m  File \u001b[0;32m\"<ipython-input-30-b3ececab8952>\"\u001b[0;36m, line \u001b[0;32m1\u001b[0m\n\u001b[0;31m    if exam => 90 :\u001b[0m\n\u001b[0m            ^\u001b[0m\n\u001b[0;31mSyntaxError\u001b[0m\u001b[0;31m:\u001b[0m invalid syntax\n"
          ]
        }
      ]
    },
    {
      "cell_type": "code",
      "source": [
        "for i in [1,2,3,4,5,6,7,8,9,10] :\n",
        "  i += f\n",
        "  print(\"i의 값 : \", i, \", 합계 : \", f)"
      ],
      "metadata": {
        "colab": {
          "base_uri": "https://localhost:8080/",
          "height": 211
        },
        "id": "LHl065h3p0L7",
        "outputId": "d62fc59f-2297-4114-fee6-e9643e835221"
      },
      "execution_count": 67,
      "outputs": [
        {
          "output_type": "error",
          "ename": "NameError",
          "evalue": "ignored",
          "traceback": [
            "\u001b[0;31m---------------------------------------------------------------------------\u001b[0m",
            "\u001b[0;31mNameError\u001b[0m                                 Traceback (most recent call last)",
            "\u001b[0;32m<ipython-input-67-b97c7fef7641>\u001b[0m in \u001b[0;36m<module>\u001b[0;34m\u001b[0m\n\u001b[1;32m      1\u001b[0m \u001b[0;32mfor\u001b[0m \u001b[0mi\u001b[0m \u001b[0;32min\u001b[0m \u001b[0;34m[\u001b[0m\u001b[0;36m1\u001b[0m\u001b[0;34m,\u001b[0m\u001b[0;36m2\u001b[0m\u001b[0;34m,\u001b[0m\u001b[0;36m3\u001b[0m\u001b[0;34m,\u001b[0m\u001b[0;36m4\u001b[0m\u001b[0;34m,\u001b[0m\u001b[0;36m5\u001b[0m\u001b[0;34m,\u001b[0m\u001b[0;36m6\u001b[0m\u001b[0;34m,\u001b[0m\u001b[0;36m7\u001b[0m\u001b[0;34m,\u001b[0m\u001b[0;36m8\u001b[0m\u001b[0;34m,\u001b[0m\u001b[0;36m9\u001b[0m\u001b[0;34m,\u001b[0m\u001b[0;36m10\u001b[0m\u001b[0;34m]\u001b[0m \u001b[0;34m:\u001b[0m\u001b[0;34m\u001b[0m\u001b[0;34m\u001b[0m\u001b[0m\n\u001b[0;32m----> 2\u001b[0;31m   \u001b[0mi\u001b[0m \u001b[0;34m+=\u001b[0m \u001b[0mf\u001b[0m\u001b[0;34m\u001b[0m\u001b[0;34m\u001b[0m\u001b[0m\n\u001b[0m\u001b[1;32m      3\u001b[0m   \u001b[0mprint\u001b[0m\u001b[0;34m(\u001b[0m\u001b[0;34m\"i의 값 : \"\u001b[0m\u001b[0;34m,\u001b[0m \u001b[0mi\u001b[0m\u001b[0;34m,\u001b[0m \u001b[0;34m\", 합계 : \"\u001b[0m\u001b[0;34m,\u001b[0m \u001b[0mf\u001b[0m\u001b[0;34m)\u001b[0m\u001b[0;34m\u001b[0m\u001b[0;34m\u001b[0m\u001b[0m\n",
            "\u001b[0;31mNameError\u001b[0m: name 'f' is not defined"
          ]
        }
      ]
    },
    {
      "cell_type": "code",
      "source": [
        "food = 11000\n",
        "if food > 10000 :\n",
        "  print(\"구매가능\")\n",
        "else :\n",
        "    print(\"구매 불가능\")"
      ],
      "metadata": {
        "colab": {
          "base_uri": "https://localhost:8080/"
        },
        "id": "sasWcajMuSTU",
        "outputId": "66e1dfc3-c33e-475b-a774-a9d4bd39c92b"
      },
      "execution_count": 62,
      "outputs": [
        {
          "output_type": "stream",
          "name": "stdout",
          "text": [
            "구매가능\n"
          ]
        }
      ]
    },
    {
      "cell_type": "markdown",
      "source": [],
      "metadata": {
        "id": "ca1VnAe_xzNQ"
      }
    }
  ]
}